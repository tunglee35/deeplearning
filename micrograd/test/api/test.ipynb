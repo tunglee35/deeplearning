{
 "cells": [
  {
   "cell_type": "code",
   "execution_count": 1,
   "metadata": {},
   "outputs": [],
   "source": [
    "from micrograd.engine import Value"
   ]
  },
  {
   "cell_type": "code",
   "execution_count": 8,
   "metadata": {},
   "outputs": [
    {
     "name": "stdout",
     "output_type": "stream",
     "text": [
      "3.7\n"
     ]
    }
   ],
   "source": [
    "# plus operation on Value type\n",
    "a = Value(1.2)\n",
    "b = Value(2.5)\n",
    "c = a + b\n",
    "\n",
    "print(c.data)"
   ]
  },
  {
   "cell_type": "code",
   "execution_count": 17,
   "metadata": {},
   "outputs": [
    {
     "name": "stdout",
     "output_type": "stream",
     "text": [
      "3.7\n",
      "0\n"
     ]
    }
   ],
   "source": [
    "# relu operation on a Value type\n",
    "\n",
    "# greater than 0 case\n",
    "print((a+b).relu().data)\n",
    "\n",
    "# greater than 0 case\n",
    "print((a-b).relu().data)\n"
   ]
  },
  {
   "cell_type": "code",
   "execution_count": 18,
   "metadata": {},
   "outputs": [
    {
     "name": "stdout",
     "output_type": "stream",
     "text": [
      "3.0000\n"
     ]
    }
   ],
   "source": [
    "# forward pass\n",
    "c = a * b\n",
    "\n",
    "print(f'{c.data:.4f}')"
   ]
  },
  {
   "cell_type": "code",
   "execution_count": 12,
   "metadata": {},
   "outputs": [
    {
     "name": "stdout",
     "output_type": "stream",
     "text": [
      "1.0000\n",
      "1.0000\n"
     ]
    }
   ],
   "source": [
    "# backprop once\n",
    "\n",
    "a = Value(1.2)\n",
    "b = Value(2.5)\n",
    "c = a + b\n",
    "\n",
    "c.backward()\n",
    "\n",
    "# c = a + b => dc/da = 1\n",
    "print(f'{a.grad:.4f}')\n",
    "\n",
    "# c = a + b => dc/db = 1\n",
    "print(f'{b.grad:.4f}')"
   ]
  },
  {
   "cell_type": "code",
   "execution_count": 14,
   "metadata": {},
   "outputs": [
    {
     "name": "stdout",
     "output_type": "stream",
     "text": [
      "1.0000\n",
      "1.0000\n",
      "2.0000\n",
      "2.0000\n",
      "3.0000\n",
      "3.0000\n"
     ]
    }
   ],
   "source": [
    "# backprop twice\n",
    "\n",
    "a = Value(1.2)\n",
    "b = Value(2.5)\n",
    "c = a + b\n",
    "\n",
    "c.backward()\n",
    "\n",
    "# c = a + b => dc/da = 1\n",
    "print(f'{a.grad:.4f}') # this will print 1.0\n",
    "\n",
    "# c = a + b => dc/db = 1\n",
    "print(f'{b.grad:.4f}')\n",
    "\n",
    "c.backward()\n",
    "\n",
    "# c = a + b => dc/da = 1\n",
    "print(f'{a.grad:.4f}') # this will print 2.0 ???\n",
    "\n",
    "# c = a + b => dc/db = 1\n",
    "print(f'{b.grad:.4f}')\n",
    "\n",
    "c.backward()\n",
    "\n",
    "# c = a + b => dc/da = 1\n",
    "print(f'{a.grad:.4f}') # this will print 2.0 ???\n",
    "\n",
    "# c = a + b => dc/db = 1\n",
    "print(f'{b.grad:.4f}')"
   ]
  },
  {
   "cell_type": "code",
   "execution_count": null,
   "metadata": {},
   "outputs": [],
   "source": []
  }
 ],
 "metadata": {
  "kernelspec": {
   "display_name": "Python 3",
   "language": "python",
   "name": "python3"
  },
  "language_info": {
   "codemirror_mode": {
    "name": "ipython",
    "version": 3
   },
   "file_extension": ".py",
   "mimetype": "text/x-python",
   "name": "python",
   "nbconvert_exporter": "python",
   "pygments_lexer": "ipython3",
   "version": "3.10.9"
  },
  "orig_nbformat": 4,
  "vscode": {
   "interpreter": {
    "hash": "aee8b7b246df8f9039afb4144a1f6fd8d2ca17a180786b69acc140d282b71a49"
   }
  }
 },
 "nbformat": 4,
 "nbformat_minor": 2
}
